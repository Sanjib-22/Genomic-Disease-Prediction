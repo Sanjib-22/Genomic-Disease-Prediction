{
 "cells": [
  {
   "cell_type": "markdown",
   "id": "0693b85c",
   "metadata": {},
   "source": [
    "DATA PREPARATION"
   ]
  },
  {
   "cell_type": "code",
   "execution_count": 22,
   "id": "cbed2e26",
   "metadata": {},
   "outputs": [],
   "source": [
    "import pandas as pd\n",
    "import numpy as np"
   ]
  },
  {
   "cell_type": "code",
   "execution_count": 33,
   "id": "db0650c2",
   "metadata": {},
   "outputs": [
    {
     "name": "stderr",
     "output_type": "stream",
     "text": [
      "<>:1: SyntaxWarning: invalid escape sequence '\\s'\n",
      "<>:9: SyntaxWarning: invalid escape sequence '\\p'\n",
      "<>:1: SyntaxWarning: invalid escape sequence '\\s'\n",
      "<>:9: SyntaxWarning: invalid escape sequence '\\p'\n",
      "C:\\Users\\Sanjib Das\\AppData\\Local\\Temp\\ipykernel_17724\\2601292131.py:1: SyntaxWarning: invalid escape sequence '\\s'\n",
      "  samples = pd.read_csv(\"HYP_data\\sample_ids(3).txt\", header=None, names=[\"sample_id\"])\n",
      "C:\\Users\\Sanjib Das\\AppData\\Local\\Temp\\ipykernel_17724\\2601292131.py:9: SyntaxWarning: invalid escape sequence '\\p'\n",
      "  samples.to_csv(\"HYP_data\\phenotype_HYP_simulated_50_50.tsv\", sep='\\t', index=False)\n"
     ]
    }
   ],
   "source": [
    "samples = pd.read_csv(\"HYP_data\\sample_ids(3).txt\", header=None, names=[\"sample_id\"])\n",
    "\n",
    "#Creating 50% labels\n",
    "n = len(samples)\n",
    "labels = np.array([1]*int(n/2) + [0]*int(n/2))\n",
    "np.random.shuffle(labels)\n",
    "\n",
    "samples[\"label\"] = labels\n",
    "samples.to_csv(\"HYP_data\\phenotype_HYP_simulated_50_50.tsv\", sep='\\t', index=False)"
   ]
  },
  {
   "cell_type": "code",
   "execution_count": 34,
   "id": "e8e6348a",
   "metadata": {},
   "outputs": [
    {
     "name": "stderr",
     "output_type": "stream",
     "text": [
      "<>:2: SyntaxWarning: invalid escape sequence '\\s'\n",
      "<>:6: SyntaxWarning: invalid escape sequence '\\F'\n",
      "<>:12: SyntaxWarning: invalid escape sequence '\\H'\n",
      "<>:2: SyntaxWarning: invalid escape sequence '\\s'\n",
      "<>:6: SyntaxWarning: invalid escape sequence '\\F'\n",
      "<>:12: SyntaxWarning: invalid escape sequence '\\H'\n",
      "C:\\Users\\Sanjib Das\\AppData\\Local\\Temp\\ipykernel_17724\\2210572903.py:2: SyntaxWarning: invalid escape sequence '\\s'\n",
      "  with open(\"HYP_data\\sample_ids(3).txt\") as f:\n",
      "C:\\Users\\Sanjib Das\\AppData\\Local\\Temp\\ipykernel_17724\\2210572903.py:6: SyntaxWarning: invalid escape sequence '\\F'\n",
      "  df = pd.read_csv(\"HYP_data\\Final_hyp_chr_genotypes_raw.txt\", sep='\\t', header=None)\n",
      "C:\\Users\\Sanjib Das\\AppData\\Local\\Temp\\ipykernel_17724\\2210572903.py:12: SyntaxWarning: invalid escape sequence '\\H'\n",
      "  df.to_csv(\"HYP_data\\HYP_chr_genotypes_with_header.tsv\", sep='\\t', index=False)\n"
     ]
    }
   ],
   "source": [
    "#Loading samples from VCF\n",
    "with open(\"HYP_data\\sample_ids(3).txt\") as f:\n",
    "    sample_ids = [line.strip() for line in f]\n",
    "\n",
    "#Loading raw genotype file (no header)\n",
    "df = pd.read_csv(\"HYP_data\\Final_hyp_chr_genotypes_raw.txt\", sep='\\t', header=None)\n",
    "\n",
    "#Generating column names, followed by sample_ids\n",
    "column_names = [\"CHROM\", \"POS\"] + sample_ids\n",
    "df.columns = column_names\n",
    "\n",
    "df.to_csv(\"HYP_data\\HYP_chr_genotypes_with_header.tsv\", sep='\\t', index=False)"
   ]
  },
  {
   "cell_type": "code",
   "execution_count": 36,
   "id": "7bfb1a37",
   "metadata": {},
   "outputs": [
    {
     "name": "stderr",
     "output_type": "stream",
     "text": [
      "<>:2: SyntaxWarning: invalid escape sequence '\\H'\n",
      "<>:4: SyntaxWarning: invalid escape sequence '\\s'\n",
      "<>:32: SyntaxWarning: invalid escape sequence '\\H'\n",
      "<>:2: SyntaxWarning: invalid escape sequence '\\H'\n",
      "<>:4: SyntaxWarning: invalid escape sequence '\\s'\n",
      "<>:32: SyntaxWarning: invalid escape sequence '\\H'\n",
      "C:\\Users\\Sanjib Das\\AppData\\Local\\Temp\\ipykernel_17724\\2885795849.py:2: SyntaxWarning: invalid escape sequence '\\H'\n",
      "  raw = pd.read_csv(\"HYP_data\\HYP_chr_genotypes_with_header.tsv\", sep='\\t')\n",
      "C:\\Users\\Sanjib Das\\AppData\\Local\\Temp\\ipykernel_17724\\2885795849.py:4: SyntaxWarning: invalid escape sequence '\\s'\n",
      "  with open (\"HYP_data\\sample_ids(3).txt\") as f:\n",
      "C:\\Users\\Sanjib Das\\AppData\\Local\\Temp\\ipykernel_17724\\2885795849.py:32: SyntaxWarning: invalid escape sequence '\\H'\n",
      "  X_filled.to_csv(\"HYP_data\\HYP_chr_dosage_matrix.csv\")\n",
      "C:\\Users\\Sanjib Das\\AppData\\Local\\Temp\\ipykernel_17724\\2885795849.py:23: FutureWarning: DataFrame.applymap has been deprecated. Use DataFrame.map instead.\n",
      "  dosage_matrix = genotypes.applymap(gt_to_dosage)\n"
     ]
    }
   ],
   "source": [
    "#Load raw data\n",
    "raw = pd.read_csv(\"HYP_data\\HYP_chr_genotypes_with_header.tsv\", sep='\\t')\n",
    "\n",
    "with open (\"HYP_data\\sample_ids(3).txt\") as f:\n",
    "    sample_ids = [line.strip() for line in f]\n",
    "\n",
    "#Extract SNP info and genotypes\n",
    "snp_ids = raw.iloc[:, 0].astype(str) + \"_\" +raw.iloc[:, 1].astype(str)\n",
    "genotypes = raw.iloc[:, 2:]\n",
    "\n",
    "#Convert GT to dosage (int)\n",
    "def gt_to_dosage(gt):\n",
    "    if gt == \"0|0\":\n",
    "        return 0\n",
    "    elif gt in [\"0|1\", \"1|0\"]:\n",
    "        return 1\n",
    "    elif gt == \"1|1\":\n",
    "        return 2\n",
    "    else:\n",
    "        return np.nan #handles ./. or missing values\n",
    "    \n",
    "#Apply conversion to each cell\n",
    "dosage_matrix = genotypes.applymap(gt_to_dosage)\n",
    "\n",
    "#Transpose: rows = samples\n",
    "X = dosage_matrix.T\n",
    "X.columns = snp_ids\n",
    "X.index = sample_ids\n",
    "\n",
    "X_filled = X.fillna(X.mean())\n",
    "\n",
    "X_filled.to_csv(\"HYP_data\\HYP_chr_dosage_matrix.csv\")"
   ]
  },
  {
   "cell_type": "code",
   "execution_count": 37,
   "id": "4d09e138",
   "metadata": {},
   "outputs": [
    {
     "name": "stdout",
     "output_type": "stream",
     "text": [
      "Matrix shape: (2504, 13)\n",
      "Phenotype breakdown:\n",
      " label\n",
      "0    1252\n",
      "1    1252\n",
      "Name: count, dtype: int64\n"
     ]
    },
    {
     "name": "stderr",
     "output_type": "stream",
     "text": [
      "<>:2: SyntaxWarning: invalid escape sequence '\\H'\n",
      "<>:3: SyntaxWarning: invalid escape sequence '\\p'\n",
      "<>:13: SyntaxWarning: invalid escape sequence '\\p'\n",
      "<>:2: SyntaxWarning: invalid escape sequence '\\H'\n",
      "<>:3: SyntaxWarning: invalid escape sequence '\\p'\n",
      "<>:13: SyntaxWarning: invalid escape sequence '\\p'\n",
      "C:\\Users\\Sanjib Das\\AppData\\Local\\Temp\\ipykernel_17724\\907285222.py:2: SyntaxWarning: invalid escape sequence '\\H'\n",
      "  X = pd.read_csv(\"HYP_data\\HYP_chr_dosage_matrix.csv\", index_col=0)\n",
      "C:\\Users\\Sanjib Das\\AppData\\Local\\Temp\\ipykernel_17724\\907285222.py:3: SyntaxWarning: invalid escape sequence '\\p'\n",
      "  y = pd.read_csv(\"HYP_data\\phenotype_HYP_simulated_50_50.tsv\", sep='\\t')\n",
      "C:\\Users\\Sanjib Das\\AppData\\Local\\Temp\\ipykernel_17724\\907285222.py:13: SyntaxWarning: invalid escape sequence '\\p'\n",
      "  y_matched.to_csv(\"HYP_data\\phenotype_HYP_aligned.csv\", index=False)\n"
     ]
    },
    {
     "data": {
      "text/html": [
       "<div>\n",
       "<style scoped>\n",
       "    .dataframe tbody tr th:only-of-type {\n",
       "        vertical-align: middle;\n",
       "    }\n",
       "\n",
       "    .dataframe tbody tr th {\n",
       "        vertical-align: top;\n",
       "    }\n",
       "\n",
       "    .dataframe thead th {\n",
       "        text-align: right;\n",
       "    }\n",
       "</style>\n",
       "<table border=\"1\" class=\"dataframe\">\n",
       "  <thead>\n",
       "    <tr style=\"text-align: right;\">\n",
       "      <th></th>\n",
       "      <th>sample_id</th>\n",
       "      <th>label</th>\n",
       "    </tr>\n",
       "  </thead>\n",
       "  <tbody>\n",
       "    <tr>\n",
       "      <th>0</th>\n",
       "      <td>HG00096</td>\n",
       "      <td>0</td>\n",
       "    </tr>\n",
       "    <tr>\n",
       "      <th>1</th>\n",
       "      <td>HG00097</td>\n",
       "      <td>0</td>\n",
       "    </tr>\n",
       "    <tr>\n",
       "      <th>2</th>\n",
       "      <td>HG00099</td>\n",
       "      <td>0</td>\n",
       "    </tr>\n",
       "    <tr>\n",
       "      <th>3</th>\n",
       "      <td>HG00100</td>\n",
       "      <td>0</td>\n",
       "    </tr>\n",
       "    <tr>\n",
       "      <th>4</th>\n",
       "      <td>HG00101</td>\n",
       "      <td>1</td>\n",
       "    </tr>\n",
       "  </tbody>\n",
       "</table>\n",
       "</div>"
      ],
      "text/plain": [
       "  sample_id  label\n",
       "0   HG00096      0\n",
       "1   HG00097      0\n",
       "2   HG00099      0\n",
       "3   HG00100      0\n",
       "4   HG00101      1"
      ]
     },
     "execution_count": 37,
     "metadata": {},
     "output_type": "execute_result"
    }
   ],
   "source": [
    "#Creating phenotype file from dosage matrix\n",
    "X = pd.read_csv(\"HYP_data\\HYP_chr_dosage_matrix.csv\", index_col=0)\n",
    "y = pd.read_csv(\"HYP_data\\phenotype_HYP_simulated_50_50.tsv\", sep='\\t')\n",
    "\n",
    "y_matched = y[y[\"sample_id\"].isin(X.index)].copy()\n",
    "X_aligned = X.loc[y_matched[\"sample_id\"]]\n",
    "\n",
    "assert all(X_aligned.index == y_matched[\"sample_id\"]), \"Sample alignment mismatch!\"\n",
    "\n",
    "#Preview of file\n",
    "print(\"Matrix shape:\", X_aligned.shape)\n",
    "print(\"Phenotype breakdown:\\n\", y_matched[\"label\"].value_counts())\n",
    "y_matched.to_csv(\"HYP_data\\phenotype_HYP_aligned.csv\", index=False)\n",
    "y_matched.head()"
   ]
  },
  {
   "cell_type": "code",
   "execution_count": 38,
   "id": "17e61c97",
   "metadata": {},
   "outputs": [
    {
     "name": "stdout",
     "output_type": "stream",
     "text": [
      "\n",
      "Original samples: Pheno=2504, Geno=2504\n",
      "Aligned samples: 2504\n",
      "\n",
      "Phenotype distribution:\n",
      "label\n",
      "0    1252\n",
      "1    1252\n",
      "Name: count, dtype: int64\n"
     ]
    },
    {
     "name": "stderr",
     "output_type": "stream",
     "text": [
      "<>:2: SyntaxWarning: invalid escape sequence '\\p'\n",
      "<>:3: SyntaxWarning: invalid escape sequence '\\H'\n",
      "<>:26: SyntaxWarning: invalid escape sequence '\\H'\n",
      "<>:27: SyntaxWarning: invalid escape sequence '\\H'\n",
      "<>:2: SyntaxWarning: invalid escape sequence '\\p'\n",
      "<>:3: SyntaxWarning: invalid escape sequence '\\H'\n",
      "<>:26: SyntaxWarning: invalid escape sequence '\\H'\n",
      "<>:27: SyntaxWarning: invalid escape sequence '\\H'\n",
      "C:\\Users\\Sanjib Das\\AppData\\Local\\Temp\\ipykernel_17724\\2049344695.py:2: SyntaxWarning: invalid escape sequence '\\p'\n",
      "  pheno = pd.read_csv(\"HYP_data\\phenotype_HYP_aligned.csv\", sep=',')\n",
      "C:\\Users\\Sanjib Das\\AppData\\Local\\Temp\\ipykernel_17724\\2049344695.py:3: SyntaxWarning: invalid escape sequence '\\H'\n",
      "  dosage_matrix = pd.read_csv(\"HYP_data\\HYP_chr_dosage_matrix.csv\", index_col=0)\n",
      "C:\\Users\\Sanjib Das\\AppData\\Local\\Temp\\ipykernel_17724\\2049344695.py:26: SyntaxWarning: invalid escape sequence '\\H'\n",
      "  pheno_aligned.to_csv(\"HYP_data\\HYP_aligned_phenotypes_final.csv\")\n",
      "C:\\Users\\Sanjib Das\\AppData\\Local\\Temp\\ipykernel_17724\\2049344695.py:27: SyntaxWarning: invalid escape sequence '\\H'\n",
      "  X.to_csv(\"HYP_data\\HYP_aligned_genotypes_final.csv\")\n"
     ]
    },
    {
     "data": {
      "text/html": [
       "<div>\n",
       "<style scoped>\n",
       "    .dataframe tbody tr th:only-of-type {\n",
       "        vertical-align: middle;\n",
       "    }\n",
       "\n",
       "    .dataframe tbody tr th {\n",
       "        vertical-align: top;\n",
       "    }\n",
       "\n",
       "    .dataframe thead th {\n",
       "        text-align: right;\n",
       "    }\n",
       "</style>\n",
       "<table border=\"1\" class=\"dataframe\">\n",
       "  <thead>\n",
       "    <tr style=\"text-align: right;\">\n",
       "      <th></th>\n",
       "      <th>label</th>\n",
       "    </tr>\n",
       "    <tr>\n",
       "      <th>sample_id</th>\n",
       "      <th></th>\n",
       "    </tr>\n",
       "  </thead>\n",
       "  <tbody>\n",
       "    <tr>\n",
       "      <th>HG00096</th>\n",
       "      <td>0</td>\n",
       "    </tr>\n",
       "    <tr>\n",
       "      <th>HG00097</th>\n",
       "      <td>0</td>\n",
       "    </tr>\n",
       "    <tr>\n",
       "      <th>HG00099</th>\n",
       "      <td>0</td>\n",
       "    </tr>\n",
       "    <tr>\n",
       "      <th>HG00100</th>\n",
       "      <td>0</td>\n",
       "    </tr>\n",
       "    <tr>\n",
       "      <th>HG00101</th>\n",
       "      <td>1</td>\n",
       "    </tr>\n",
       "  </tbody>\n",
       "</table>\n",
       "</div>"
      ],
      "text/plain": [
       "           label\n",
       "sample_id       \n",
       "HG00096        0\n",
       "HG00097        0\n",
       "HG00099        0\n",
       "HG00100        0\n",
       "HG00101        1"
      ]
     },
     "execution_count": 38,
     "metadata": {},
     "output_type": "execute_result"
    }
   ],
   "source": [
    "#Creating Final files for genotype and phenotype\n",
    "pheno = pd.read_csv(\"HYP_data\\phenotype_HYP_aligned.csv\", sep=',')\n",
    "dosage_matrix = pd.read_csv(\"HYP_data\\HYP_chr_dosage_matrix.csv\", index_col=0)\n",
    "\n",
    "#Converting labels to integers (0=control, 1=case)\n",
    "pheno[\"label\"] = pheno[\"label\"].astype(int)\n",
    "\n",
    "#Aligning samples between phenotype and genotype data and getting the intersection of Sample IDs\n",
    "common_samples= list(set(pheno[\"sample_id\"]).intersection(dosage_matrix.index))\n",
    "\n",
    "#Filter both datasets\n",
    "pheno_aligned = pheno[pheno[\"sample_id\"].isin(common_samples)].set_index(\"sample_id\")\n",
    "dosage_aligned = dosage_matrix.loc[common_samples]\n",
    "\n",
    "#Checking alignment\n",
    "print(f\"\\nOriginal samples: Pheno={len(pheno)}, Geno={len(dosage_matrix)}\")\n",
    "print(f\"Aligned samples: {len(common_samples)}\")\n",
    "print(f\"\\nPhenotype distribution:\")\n",
    "print(pheno_aligned[\"label\"].value_counts())\n",
    "\n",
    "#Prepare X and Y for model training\n",
    "X = dosage_aligned.astype(float)\n",
    "y = pheno_aligned[\"label\"].values\n",
    "\n",
    "#Saving the aligned datasets\n",
    "pheno_aligned.to_csv(\"HYP_data\\HYP_aligned_phenotypes_final.csv\")\n",
    "X.to_csv(\"HYP_data\\HYP_aligned_genotypes_final.csv\")\n",
    "pheno_aligned.head()"
   ]
  },
  {
   "cell_type": "code",
   "execution_count": 39,
   "id": "3229ad30",
   "metadata": {},
   "outputs": [
    {
     "name": "stdout",
     "output_type": "stream",
     "text": [
      "Fixed DataFrame:\n",
      "         1_19626393  1_30966129  1_62114132  5_61160000  5_135947363  \\\n",
      "NA20538         0.0         1.0         0.0         0.0          0.0   \n",
      "\n",
      "         6_33080689  7_34078932  10_19450323  11_418745  11_26643241  \\\n",
      "NA20538         0.0         0.0          0.0        0.0          0.0   \n",
      "\n",
      "         11_126345344  17_21300910  19_16878582  \n",
      "NA20538           0.0          0.0          0.0  \n",
      "\n",
      "Files saved without duplicate index column!\n"
     ]
    },
    {
     "name": "stderr",
     "output_type": "stream",
     "text": [
      "<>:2: SyntaxWarning: invalid escape sequence '\\H'\n",
      "<>:14: SyntaxWarning: invalid escape sequence '\\H'\n",
      "<>:2: SyntaxWarning: invalid escape sequence '\\H'\n",
      "<>:14: SyntaxWarning: invalid escape sequence '\\H'\n",
      "C:\\Users\\Sanjib Das\\AppData\\Local\\Temp\\ipykernel_17724\\3199308337.py:2: SyntaxWarning: invalid escape sequence '\\H'\n",
      "  df = pd.read_csv(\"HYP_data\\HYP_aligned_genotypes_final.csv\")\n",
      "C:\\Users\\Sanjib Das\\AppData\\Local\\Temp\\ipykernel_17724\\3199308337.py:14: SyntaxWarning: invalid escape sequence '\\H'\n",
      "  df.to_csv(\"HYP_data\\HYP_aligned_genotypes_final.csv\", index=True)  # index=True preserves sample IDs as column\n"
     ]
    }
   ],
   "source": [
    "#Removing unnamed column in genotypes file\n",
    "df = pd.read_csv(\"HYP_data\\HYP_aligned_genotypes_final.csv\")\n",
    "\n",
    "#Fix the index column\n",
    "if 'Unnamed: 0' in df.columns:\n",
    "    df = df.set_index('Unnamed: 0')\n",
    "    df.index.name = None  \n",
    "\n",
    "#Verify\n",
    "print(\"Fixed DataFrame:\")\n",
    "print(df.head(1))\n",
    "\n",
    "#Saving corrected file (overwrite original)\n",
    "df.to_csv(\"HYP_data\\HYP_aligned_genotypes_final.csv\", index=True)  # index=True preserves sample IDs as column\n",
    "\n",
    "print(\"\\nFiles saved without duplicate index column!\")"
   ]
  },
  {
   "cell_type": "code",
   "execution_count": 40,
   "metadata": {},
   "outputs": [
    {
     "name": "stdout",
     "output_type": "stream",
     "text": [
      "Fixed DataFrame:\n",
      "  sample_id  label\n",
      "0   HG00096      0\n",
      "1   HG00097      0\n",
      "2   HG00099      0\n",
      "3   HG00100      0\n",
      "4   HG00101      1\n",
      "\n",
      "File saved without duplicate index column!\n"
     ]
    },
    {
     "name": "stderr",
     "output_type": "stream",
     "text": [
      "<>:2: SyntaxWarning: invalid escape sequence '\\H'\n",
      "<>:14: SyntaxWarning: invalid escape sequence '\\H'\n",
      "<>:2: SyntaxWarning: invalid escape sequence '\\H'\n",
      "<>:14: SyntaxWarning: invalid escape sequence '\\H'\n",
      "C:\\Users\\Sanjib Das\\AppData\\Local\\Temp\\ipykernel_17724\\3823472495.py:2: SyntaxWarning: invalid escape sequence '\\H'\n",
      "  df = pd.read_csv(\"HYP_data\\HYP_aligned_phenotypes_final.csv\")\n",
      "C:\\Users\\Sanjib Das\\AppData\\Local\\Temp\\ipykernel_17724\\3823472495.py:14: SyntaxWarning: invalid escape sequence '\\H'\n",
      "  df.to_csv(\"HYP_data\\HYP_aligned_phenotypes_final.csv\", index=False)  # index=True preserves sample IDs as column\n"
     ]
    }
   ],
   "source": [
    "# Removing unnamed column in phenotype file\n",
    "df = pd.read_csv(\"HYP_data\\HYP_aligned_phenotypes_final.csv\")\n",
    "\n",
    "# Fixing the index column\n",
    "if 'Unnamed: 0' in df.columns:\n",
    "    df = df.set_index('Unnamed: 0')\n",
    "    df.index.name = None  \n",
    "\n",
    "# Verify\n",
    "print(\"Fixed DataFrame:\")\n",
    "print(df.head())\n",
    "\n",
    "# Saving corrected file (overwrite original)\n",
    "df.to_csv(\"HYP_data\\HYP_aligned_phenotypes_final.csv\", index=False)  # index=True preserves sample IDs as column\n",
    "\n",
    "print(\"\\nFile saved without duplicate index column!\")"
   ]
  },
  {
   "cell_type": "code",
   "execution_count": 41,
   "id": "dcc1baee",
   "metadata": {},
   "outputs": [
    {
     "name": "stdout",
     "output_type": "stream",
     "text": [
      "=== Phenotype Data Validation ===\n",
      "Total samples: 2504\n",
      "\n",
      "First 5 rows:\n",
      "  sample_id  label\n",
      "0   HG00096      0\n",
      "1   HG00097      0\n",
      "2   HG00099      0\n",
      "3   HG00100      0\n",
      "4   HG00101      1\n",
      "\n",
      "Label distribution:\n",
      "label\n",
      "0    1252\n",
      "1    1252\n",
      "Name: count, dtype: int64\n",
      "\n",
      "=== Quality Checks ===\n",
      "Missing labels: 0\n",
      "Duplicate sample IDs: 0\n",
      "Non-binary labels: set()\n",
      "\n",
      "Samples in both files: 2504/2504\n",
      "\n",
      "All sample IDs match perfectly!\n"
     ]
    },
    {
     "name": "stderr",
     "output_type": "stream",
     "text": [
      "<>:3: SyntaxWarning: invalid escape sequence '\\H'\n",
      "<>:4: SyntaxWarning: invalid escape sequence '\\H'\n",
      "<>:43: SyntaxWarning: invalid escape sequence '\\H'\n",
      "<>:44: SyntaxWarning: invalid escape sequence '\\H'\n",
      "<>:3: SyntaxWarning: invalid escape sequence '\\H'\n",
      "<>:4: SyntaxWarning: invalid escape sequence '\\H'\n",
      "<>:43: SyntaxWarning: invalid escape sequence '\\H'\n",
      "<>:44: SyntaxWarning: invalid escape sequence '\\H'\n",
      "C:\\Users\\Sanjib Das\\AppData\\Local\\Temp\\ipykernel_17724\\2487392432.py:3: SyntaxWarning: invalid escape sequence '\\H'\n",
      "  genotypes = pd.read_csv(\"HYP_data\\HYP_aligned_genotypes_final.csv\", index_col=0)\n",
      "C:\\Users\\Sanjib Das\\AppData\\Local\\Temp\\ipykernel_17724\\2487392432.py:4: SyntaxWarning: invalid escape sequence '\\H'\n",
      "  phenotypes = pd.read_csv(\"HYP_data\\HYP_aligned_phenotypes_final.csv\")\n",
      "C:\\Users\\Sanjib Das\\AppData\\Local\\Temp\\ipykernel_17724\\2487392432.py:43: SyntaxWarning: invalid escape sequence '\\H'\n",
      "  phenotypes.to_csv(\"HYP_data\\HYP_aligned_phenotypes_cleaned.csv\", index=False)\n",
      "C:\\Users\\Sanjib Das\\AppData\\Local\\Temp\\ipykernel_17724\\2487392432.py:44: SyntaxWarning: invalid escape sequence '\\H'\n",
      "  genotypes.to_csv(\"HYP_data\\HYP_aligned_genotypes_cleaned.csv\", index=True)\n"
     ]
    }
   ],
   "source": [
    "# Final Verification of all files \n",
    "\n",
    "genotypes = pd.read_csv(\"HYP_data\\HYP_aligned_genotypes_final.csv\", index_col=0)\n",
    "phenotypes = pd.read_csv(\"HYP_data\\HYP_aligned_phenotypes_final.csv\")\n",
    "\n",
    "# Basic phenotype checks\n",
    "print(\"=== Phenotype Data Validation ===\")\n",
    "print(f\"Total samples: {len(phenotypes)}\")\n",
    "print(\"\\nFirst 5 rows:\")\n",
    "print(phenotypes.head())\n",
    "\n",
    "print(\"\\nLabel distribution:\")\n",
    "print(phenotypes['label'].value_counts())\n",
    "\n",
    "# Checking for common issues\n",
    "print(\"\\n=== Quality Checks ===\")\n",
    "print(f\"Missing labels: {phenotypes['label'].isna().sum()}\")\n",
    "print(f\"Duplicate sample IDs: {phenotypes['sample_id'].duplicated().sum()}\")\n",
    "print(f\"Non-binary labels: {set(phenotypes['label']) - {0, 1}}\")  # Should be empty set\n",
    "\n",
    "# Verifying alignment with genotypes\n",
    "common_samples = set(phenotypes['sample_id']).intersection(genotypes.index)\n",
    "print(f\"\\nSamples in both files: {len(common_samples)}/{len(phenotypes)}\")\n",
    "\n",
    "mismatched = set(phenotypes['sample_id']).symmetric_difference(genotypes.index)\n",
    "if mismatched:\n",
    "    print(\"\\nWarning: Mismatched sample IDs (first 5):\")\n",
    "    print(list(mismatched)[:5])\n",
    "else:\n",
    "    print(\"\\nAll sample IDs match perfectly!\")\n",
    "\n",
    "if len(mismatched) > 0:\n",
    "    print(\"\\nCleaning sample IDs...\")\n",
    "    phenotypes['sample_id'] = phenotypes['sample_id'].str.strip().str.upper()\n",
    "    genotypes.index = genotypes.index.str.strip().str.upper()\n",
    "    \n",
    "    common_samples = set(phenotypes['sample_id']).intersection(genotypes.index)\n",
    "    phenotypes = phenotypes[phenotypes['sample_id'].isin(common_samples)]\n",
    "    genotypes = genotypes.loc[common_samples]\n",
    "    \n",
    "    print(f\"Final aligned samples: {len(common_samples)}\")\n",
    "    \n",
    "    phenotypes.to_csv(\"HYP_data\\HYP_aligned_phenotypes_cleaned.csv\", index=False)\n",
    "    genotypes.to_csv(\"HYP_data\\HYP_aligned_genotypes_cleaned.csv\", index=True)\n",
    "    print(\"Saved cleaned files!\")"
   ]
  },
  {
   "cell_type": "markdown",
   "id": "56d1fa6b",
   "metadata": {},
   "source": [
    "MODEL TRAINING AND TESTING"
   ]
  },
  {
   "cell_type": "code",
   "execution_count": 1,
   "id": "f07f7593",
   "metadata": {},
   "outputs": [],
   "source": [
    "import pandas as pd\n",
    "import numpy as np\n",
    "from sklearn.feature_selection import SelectKBest, f_classif\n",
    "from sklearn.linear_model import LogisticRegressionCV\n",
    "from sklearn.preprocessing import StandardScaler\n",
    "from sklearn.metrics import accuracy_score, classification_report, ConfusionMatrixDisplay, roc_auc_score, roc_curve, confusion_matrix \n",
    "from sklearn.model_selection import train_test_split\n",
    "import matplotlib.pyplot as plt\n",
    "import seaborn as sns\n",
    "import joblib\n",
    "import random\n",
    "import os"
   ]
  },
  {
   "cell_type": "code",
   "execution_count": 2,
   "id": "751729df",
   "metadata": {},
   "outputs": [],
   "source": [
    "# File path\n",
    "\n",
    "result_dir = os.path.join('..', 'Outputs', 'HYP_results')\n",
    "target_dir = os.path.join('..', 'Final Datasets', 'HYP_final')\n",
    "raw_file_dir = os.path.join('..', 'Raw_Datasets', 'HYP_data')\n",
    "\n",
    "# Final File path \n",
    "snp_file = os.path.join(raw_file_dir, 'HyperTH_top2000_cleaned.csv')\n",
    "pheno_final_extended = os.path.join(target_dir, 'HYP_aligned_phenotypes_final_extended.csv')\n",
    "pheno_final_path = os.path.join(target_dir, 'HYP_aligned_phenotypes_final.csv') \n",
    "geno_final_path = os.path.join(target_dir, 'HYP_aligned_genotypes_final.csv')\n",
    "logreg_model = os.path.join(result_dir, 'HYP_selectKbest_logreg_model.joblib')\n",
    "logreg_coeff = os.path.join(result_dir, 'logreg_selectKbest_coefficients.csv')\n",
    "logreg_model_AS = os.path.join(result_dir, 'HYP_selectKbest_logreg_model_AgeSex.joblib')\n",
    "logreg_coeff_AS = os.path.join(result_dir, 'logreg_selectKbest_coefficients_AgeSex.csv')\n",
    "model_perf = os.path.join(result_dir, 'HYP_selectKbest_model_performance.png')\n",
    "model_perf_AS = os.path.join(result_dir, 'HYP_selectKbest_model_performance_AgeSex.png')\n",
    "cf_matrix = os.path.join(result_dir, 'HYP_confusion_matrix.png')\n",
    "prs_csv = os.path.join(result_dir, 'HYP_prs_scores.csv')\n",
    "prs_png = os.path.join(result_dir, 'HYP_PRS_distribution_fixed.png')"
   ]
  },
  {
   "cell_type": "code",
   "execution_count": 3,
   "id": "a0e983f4",
   "metadata": {},
   "outputs": [
    {
     "name": "stderr",
     "output_type": "stream",
     "text": [
      "C:\\Users\\Sanjib Das\\AppData\\Roaming\\Python\\Python313\\site-packages\\sklearn\\feature_selection\\_univariate_selection.py:782: UserWarning: k=100 is greater than n_features=13. All the features will be returned.\n",
      "  warnings.warn(\n"
     ]
    }
   ],
   "source": [
    "# Loading the data\n",
    "X = pd.read_csv(geno_final_path, index_col=0)\n",
    "y = pd.read_csv(pheno_final_path).set_index(\"sample_id\")[\"label\"]\n",
    "\n",
    "#Aligning the samples\n",
    "common = X.index.intersection(y.index)\n",
    "X = X.loc[common]\n",
    "y = y.loc[common]\n",
    "\n",
    "selector = SelectKBest(f_classif, k=100)\n",
    "X_selected = selector.fit_transform(X, y)\n",
    "selected_snps = X.columns[selector.get_support()]\n",
    "X_selected_df = pd.DataFrame(X_selected, index=X.index, columns=selected_snps)\n"
   ]
  },
  {
   "cell_type": "code",
   "execution_count": 4,
   "id": "692cabff",
   "metadata": {},
   "outputs": [],
   "source": [
    "X_train, X_test, y_train, y_test = train_test_split(\n",
    "    X_selected_df, y, test_size=0.10, stratify=y, random_state=42\n",
    ")"
   ]
  },
  {
   "cell_type": "code",
   "execution_count": 5,
   "id": "f2254c63",
   "metadata": {},
   "outputs": [
    {
     "name": "stdout",
     "output_type": "stream",
     "text": [
      "Training LogisticRegressionCV...\n"
     ]
    }
   ],
   "source": [
    "print(\"Training LogisticRegressionCV...\")\n",
    "logreg = LogisticRegressionCV(\n",
    "    Cs=np.logspace(-4,1,20),\n",
    "    cv=10,\n",
    "    penalty='l1',\n",
    "    solver='saga',\n",
    "    scoring='roc_auc',\n",
    "    max_iter=10000,\n",
    "    n_jobs=2,\n",
    "    random_state=42\n",
    ").fit(X_train, y_train)"
   ]
  },
  {
   "cell_type": "code",
   "execution_count": 6,
   "id": "f9568626",
   "metadata": {},
   "outputs": [
    {
     "name": "stdout",
     "output_type": "stream",
     "text": [
      "Train AUC: 0.528\n",
      "Test AUC: 0.533\n",
      "\n",
      "Accuracy (threshold 0.5): 0.514\n",
      "\n",
      "Classification Report:\n",
      "\n",
      "              precision    recall  f1-score   support\n",
      "\n",
      "           0       0.52      0.40      0.45       126\n",
      "           1       0.51      0.63      0.56       125\n",
      "\n",
      "    accuracy                           0.51       251\n",
      "   macro avg       0.52      0.51      0.51       251\n",
      "weighted avg       0.52      0.51      0.51       251\n",
      "\n"
     ]
    },
    {
     "data": {
      "image/png": "[encoded data removed]",
      "text/plain": [
       "<Figure size 1000x400 with 2 Axes>"
      ]
     },
     "metadata": {},
     "output_type": "display_data"
    },
    {
     "name": "stdout",
     "output_type": "stream",
     "text": [
      "\n",
      "Confusion Matrix (threshold = 0.5):\n",
      "[[50 76]\n",
      " [46 79]]\n"
     ]
    }
   ],
   "source": [
    "# Prediction and evaluation\n",
    "y_pred_prob_train = logreg.predict_proba(X_train)[:, 1]\n",
    "y_pred_prob = logreg.predict_proba(X_test)[:, 1]\n",
    "train_auc = roc_auc_score(y_train, y_pred_prob_train)\n",
    "test_auc = roc_auc_score(y_test, y_pred_prob)\n",
    "print(f\"Train AUC: {train_auc:.3f}\")\n",
    "print(f\"Test AUC: {test_auc:.3f}\")\n",
    "\n",
    "y_pred_binary = (y_pred_prob > 0.5).astype(int)\n",
    "accuracy = accuracy_score(y_test, y_pred_binary)\n",
    "print(f\"\\nAccuracy (threshold 0.5): {accuracy:.3f}\")\n",
    "\n",
    "# Step 3: Optional detailed report\n",
    "print(\"\\nClassification Report:\\n\")\n",
    "print(classification_report(y_test, y_pred_binary))\n",
    "\n",
    "# Step 7: Save model and coefficients\n",
    "joblib.dump(logreg, logreg_model)\n",
    "pd.Series(logreg.coef_.flatten(), index=X_selected_df.columns, name=\"coefficients\")\\\n",
    "  .to_csv(logreg_coeff)\n",
    "\n",
    "# Step 8: Visualize ROC and Risk Score Distribution\n",
    "fpr, tpr, _ = roc_curve(y_test, y_pred_prob)\n",
    "\n",
    "plt.figure(figsize=(10, 4))\n",
    "\n",
    "# ROC Curve\n",
    "plt.subplot(1, 2, 1)\n",
    "plt.plot(fpr, tpr, label=f\"AUC = {test_auc:.3f}\")\n",
    "plt.plot([0, 1], [0, 1], 'k--')\n",
    "plt.xlabel(\"False Positive Rate\")\n",
    "plt.ylabel(\"True Positive Rate\")\n",
    "plt.title(\"Hyperthyroidism ROC Curve (SNP only)\")\n",
    "plt.legend()\n",
    "\n",
    "# Risk Score Histogram\n",
    "plt.subplot(1, 2, 2)\n",
    "plt.hist(y_pred_prob[y_test == 0], bins=30, alpha=1, label=\"Controls\", color=\"#065a83\", edgecolor='black', linewidth=0.5, zorder=3)\n",
    "plt.hist(y_pred_prob[y_test == 1], bins=30, alpha=1, label=\"Cases\", color=\"#d75b25\", edgecolor='black', linewidth=0.5, zorder=2)\n",
    "plt.grid(axis='y', alpha=0.3, linestyle='--', zorder=1)\n",
    "plt.xlabel(\"Predicted Probability\")\n",
    "plt.ylabel(\"Count\")\n",
    "plt.title(\"Risk Score Distribution for Hyperthyroidism (SNP Only)\")\n",
    "plt.legend()\n",
    "plt.gca().spines['top'].set_visible(False)\n",
    "plt.gca().spines['right'].set_visible(False)\n",
    "plt.tight_layout()\n",
    "plt.savefig(model_perf, dpi=500, bbox_inches='tight')\n",
    "plt.show()\n",
    "\n",
    "# Step 9: Confusion Matrix\n",
    "print(\"\\nConfusion Matrix (threshold = 0.5):\")\n",
    "print(confusion_matrix(y_test, y_pred_prob > 0.5))"
   ]
  },
  {
   "cell_type": "code",
   "execution_count": 7,
   "id": "ce65bd65",
   "metadata": {},
   "outputs": [
    {
     "name": "stdout",
     "output_type": "stream",
     "text": [
      "Age + Sex Only AUC: 0.500\n"
     ]
    }
   ],
   "source": [
    "#Taking only Age And Sex\n",
    "\n",
    "# 1. Load phenotypes (has age, sex, label)\n",
    "df = pd.read_csv(pheno_final_extended).set_index(\"sample_id\")\n",
    "\n",
    "# 2. Define age+sex as features, label as target\n",
    "df[\"sex\"] = df[\"sex\"].map({\"M\":0, \"F\":1})\n",
    "X_age_sex = df[[\"age\", \"sex\"]]\n",
    "y = df[\"label\"]\n",
    "\n",
    "# 3. Split\n",
    "X_train, X_test, y_train, y_test = train_test_split(\n",
    "    X_age_sex, y, stratify=y, test_size=0.10, random_state=42\n",
    ")\n",
    "\n",
    "# 4. Train and Evaluate\n",
    "model = LogisticRegressionCV(Cs=10, cv=10, penalty='l1', solver='saga', max_iter=10000, n_jobs=2, random_state=42)\n",
    "model.fit(X_train, y_train)\n",
    "\n",
    "auc = roc_auc_score(y_test, model.predict_proba(X_test)[:, 1])\n",
    "print(f\"Age + Sex Only AUC: {auc:.3f}\")"
   ]
  },
  {
   "cell_type": "code",
   "execution_count": 8,
   "id": "c81cd300",
   "metadata": {},
   "outputs": [],
   "source": [
    "#Taking sex and age as covariates\n",
    "\n",
    "X = pd.read_csv(geno_final_path, index_col=0)\n",
    "phenos = pd.read_csv(pheno_final_extended).set_index(\"sample_id\")\n",
    "\n",
    "common = X.index.intersection(phenos.index)\n",
    "X = X.loc[common]\n",
    "phenos = phenos.loc[common]\n",
    "\n",
    "phenos[\"sex_bin\"] = phenos[\"sex\"].map({\"M\":0, \"F\":1})\n",
    "\n",
    "y = phenos[\"label\"]\n",
    "age = phenos[\"age\"]\n",
    "sex = phenos[\"sex_bin\"]"
   ]
  },
  {
   "cell_type": "code",
   "execution_count": 9,
   "id": "f723c32d",
   "metadata": {},
   "outputs": [
    {
     "name": "stderr",
     "output_type": "stream",
     "text": [
      "C:\\Users\\Sanjib Das\\AppData\\Roaming\\Python\\Python313\\site-packages\\sklearn\\feature_selection\\_univariate_selection.py:782: UserWarning: k=100 is greater than n_features=13. All the features will be returned.\n",
      "  warnings.warn(\n"
     ]
    }
   ],
   "source": [
    "selector = SelectKBest(f_classif, k=100)\n",
    "X_selected = selector.fit_transform(X, y)\n",
    "selected_snps = X.columns[selector.get_support()]\n",
    "X_selected_df = pd.DataFrame(X_selected, index=X.index, columns=selected_snps)\n",
    "\n",
    "X_selected_df[\"age\"] = age\n",
    "X_selected_df[\"sex\"] = sex"
   ]
  },
  {
   "cell_type": "code",
   "execution_count": 10,
   "id": "1284106c",
   "metadata": {},
   "outputs": [],
   "source": [
    "X_train, X_test, y_train, y_test = train_test_split(\n",
    "    X_selected_df, y, test_size=0.10, stratify=y, random_state=42\n",
    ")"
   ]
  },
  {
   "cell_type": "code",
   "execution_count": 11,
   "id": "94623851",
   "metadata": {},
   "outputs": [
    {
     "name": "stdout",
     "output_type": "stream",
     "text": [
      "Training LogisticRegressionCV...\n"
     ]
    }
   ],
   "source": [
    "print(\"Training LogisticRegressionCV...\")\n",
    "logreg = LogisticRegressionCV(\n",
    "    Cs=np.logspace(-4,1,20),\n",
    "    cv=10,\n",
    "    penalty='l1',\n",
    "    solver='saga',\n",
    "    scoring='roc_auc',\n",
    "    max_iter=10000,\n",
    "    n_jobs=2,\n",
    "    random_state=42\n",
    ").fit(X_train, y_train)"
   ]
  },
  {
   "cell_type": "code",
   "execution_count": 12,
   "id": "7e3618e1",
   "metadata": {},
   "outputs": [
    {
     "name": "stdout",
     "output_type": "stream",
     "text": [
      "Train AUC: 0.529\n",
      "Test AUC: 0.539\n",
      "\n",
      "Accuracy (threshold 0.5): 0.534\n",
      "\n",
      "Classification Report:\n",
      "\n",
      "              precision    recall  f1-score   support\n",
      "\n",
      "           0       0.54      0.44      0.49       126\n",
      "           1       0.53      0.62      0.57       125\n",
      "\n",
      "    accuracy                           0.53       251\n",
      "   macro avg       0.54      0.53      0.53       251\n",
      "weighted avg       0.54      0.53      0.53       251\n",
      "\n"
     ]
    },
    {
     "data": {
      "image/png": "[encoded data removed]",
      "text/plain": [
       "<Figure size 1000x400 with 2 Axes>"
      ]
     },
     "metadata": {},
     "output_type": "display_data"
    },
    {
     "name": "stdout",
     "output_type": "stream",
     "text": [
      "\n",
      "Confusion Matrix (threshold = 0.5):\n",
      "[[56 70]\n",
      " [47 78]]\n"
     ]
    }
   ],
   "source": [
    "# Prediction and evaluation\n",
    "y_pred_prob_train = logreg.predict_proba(X_train)[:, 1]\n",
    "y_pred_prob = logreg.predict_proba(X_test)[:, 1]\n",
    "train_auc = roc_auc_score(y_train, y_pred_prob_train)\n",
    "test_auc = roc_auc_score(y_test, y_pred_prob)\n",
    "print(f\"Train AUC: {train_auc:.3f}\")\n",
    "print(f\"Test AUC: {test_auc:.3f}\")\n",
    "\n",
    "y_pred_binary = (y_pred_prob > 0.5).astype(int)\n",
    "accuracy = accuracy_score(y_test, y_pred_binary)\n",
    "print(f\"\\nAccuracy (threshold 0.5): {accuracy:.3f}\")\n",
    "\n",
    "# Step 3: Optional detailed report\n",
    "print(\"\\nClassification Report:\\n\")\n",
    "print(classification_report(y_test, y_pred_binary))\n",
    "\n",
    "# Step 7: Save model and coefficients\n",
    "joblib.dump(logreg, logreg_model_AS)\n",
    "pd.Series(logreg.coef_.flatten(), index=X_selected_df.columns, name=\"coefficients\")\\\n",
    "  .to_csv(logreg_coeff_AS)\n",
    "\n",
    "# Step 8: Visualize ROC and Risk Score Distribution\n",
    "fpr, tpr, _ = roc_curve(y_test, y_pred_prob)\n",
    "\n",
    "plt.figure(figsize=(10, 4))\n",
    "\n",
    "# ROC Curve\n",
    "plt.subplot(1, 2, 1)\n",
    "plt.plot(fpr, tpr, label=f\"AUC = {test_auc:.3f}\")\n",
    "plt.plot([0, 1], [0, 1], 'k--')\n",
    "plt.xlabel(\"False Positive Rate\")\n",
    "plt.ylabel(\"True Positive Rate\")\n",
    "plt.title(\"Hyperthyroidism ROC Curve (SNP+Age+Sex)\")\n",
    "plt.legend()\n",
    "\n",
    "# Risk Score Histogram\n",
    "plt.subplot(1, 2, 2)\n",
    "plt.hist(y_pred_prob[y_test == 0], bins=30, alpha=1, label=\"Controls\", color=\"#065a83\", edgecolor='black', linewidth=0.5, zorder=3)\n",
    "plt.hist(y_pred_prob[y_test == 1], bins=30, alpha=1, label=\"Cases\", color=\"#d75b25\", edgecolor='black', linewidth=0.5, zorder=2)\n",
    "plt.grid(axis='y', alpha=0.3, linestyle='--', zorder=1)\n",
    "plt.xlabel(\"Predicted Probability\")\n",
    "plt.ylabel(\"Count\")\n",
    "plt.title(\"Risk Score Distribution for Hyperthyroidism (Age+Sex+SNP)\")\n",
    "plt.legend()\n",
    "plt.gca().spines['top'].set_visible(False)\n",
    "plt.gca().spines['right'].set_visible(False)\n",
    "plt.tight_layout()\n",
    "plt.savefig(model_perf_AS, dpi=500, bbox_inches='tight')\n",
    "plt.show()\n",
    "\n",
    "# Step 9: Confusion Matrix\n",
    "print(\"\\nConfusion Matrix (threshold = 0.5):\")\n",
    "print(confusion_matrix(y_test, y_pred_prob > 0.5))"
   ]
  },
  {
   "cell_type": "code",
   "execution_count": 13,
   "id": "401bc669",
   "metadata": {},
   "outputs": [
    {
     "name": "stdout",
     "output_type": "stream",
     "text": [
      "Best C (C*): 0.4832930238571752\n",
      "Regularization Strength λ* = 2.0691e+00\n"
     ]
    }
   ],
   "source": [
    "model = joblib.load(logreg_model)  \n",
    "\n",
    "# Best C chosen by CV\n",
    "C_star = model.C_[0]               \n",
    "lambda_star = 1 / C_star           \n",
    "\n",
    "print(f\"Best C (C*): {C_star}\")\n",
    "print(f\"Regularization Strength λ* = {lambda_star:.4e}\")"
   ]
  },
  {
   "cell_type": "code",
   "execution_count": 14,
   "id": "b2a8668a",
   "metadata": {},
   "outputs": [
    {
     "name": "stdout",
     "output_type": "stream",
     "text": [
      "\n",
      "SNPs in coefficients file: 13\n",
      "Overlap in X genotype matrix: 13\n"
     ]
    },
    {
     "data": {
      "image/png": "[encoded data removed]",
      "text/plain": [
       "<Figure size 800x500 with 1 Axes>"
      ]
     },
     "metadata": {},
     "output_type": "display_data"
    }
   ],
   "source": [
    "X = pd.read_csv(geno_final_path, index_col=0)\n",
    "phenos = pd.read_csv(pheno_final_path).set_index(\"sample_id\")\n",
    "\n",
    "model = joblib.load(logreg_model)\n",
    "coef = pd.read_csv(logreg_coeff, index_col=0)\n",
    "coef = coef.squeeze()\n",
    "\n",
    "selected_snps = coef.index.tolist()\n",
    "X_prs = X[selected_snps]\n",
    "\n",
    "prs_scores = X_prs.dot(coef)\n",
    "prs_df = phenos[[\"label\"]].copy()\n",
    "prs_df[\"PRS\"] = prs_scores\n",
    "\n",
    "print(\"\\nSNPs in coefficients file:\", len(selected_snps))\n",
    "print(\"Overlap in X genotype matrix:\", X.columns.intersection(selected_snps).shape[0])\n",
    "\n",
    "prs_df.to_csv(prs_csv)\n",
    "\n",
    "\n",
    "#Histogram plotting\n",
    "case_color = \"#d75b25\"      \n",
    "control_color = \"#065a83\"    \n",
    "\n",
    "plt.figure(figsize=(8, 5), dpi=100)\n",
    "\n",
    "plt.hist(\n",
    "    prs_df[prs_df[\"label\"] == 0][\"PRS\"],\n",
    "    bins=30,\n",
    "    alpha=1,\n",
    "    label=\"HYP Controls\",\n",
    "    color=control_color,\n",
    "    edgecolor='black',\n",
    "    linewidth=0.5,\n",
    "    zorder=3\n",
    ")\n",
    "\n",
    "plt.hist(\n",
    "    prs_df[prs_df[\"label\"] == 1][\"PRS\"],\n",
    "    bins=30,\n",
    "    alpha=1,\n",
    "    label=\"HYP Cases\",\n",
    "    color=case_color,\n",
    "    edgecolor='black',\n",
    "    linewidth=0.5,\n",
    "    zorder=2\n",
    ")\n",
    "\n",
    "plt.grid(axis='y', alpha=0.3, linestyle='--', zorder=1)\n",
    "\n",
    "plt.title(\"HYP PRS Distribution (Cases vs Controls)\", fontsize=14, pad=20)\n",
    "plt.xlabel(\"Polygenic Risk Score\", fontsize=12)\n",
    "plt.ylabel(\"Number of Individuals\", fontsize=12)\n",
    "plt.legend(framealpha=1, edgecolor='black')\n",
    "plt.gca().spines['top'].set_visible(False)\n",
    "plt.gca().spines['right'].set_visible(False)\n",
    "plt.tight_layout()\n",
    "plt.savefig(prs_png, dpi=500, bbox_inches='tight')\n",
    "plt.show()"
   ]
  },
  {
   "cell_type": "code",
   "execution_count": 15,
   "id": "049adbe2",
   "metadata": {},
   "outputs": [
    {
     "name": "stdout",
     "output_type": "stream",
     "text": [
      "Top 10% PRS threshold: 0.000000000\n",
      "T2D Cases in top 10%: 227\n",
      "Controls in top 10%: 205\n"
     ]
    }
   ],
   "source": [
    "# Top 10% threshold taken\n",
    "prs_threshold = prs_df[\"PRS\"].quantile(0.90)\n",
    "\n",
    "# Counting individuals above it\n",
    "high_risk = prs_df[prs_df[\"PRS\"] >= prs_threshold]\n",
    "\n",
    "# Splitting by label\n",
    "high_risk_cases = high_risk[high_risk[\"label\"] == 1].shape[0]\n",
    "high_risk_controls = high_risk[high_risk[\"label\"] == 0].shape[0]\n",
    "\n",
    "print(f\"Top 10% PRS threshold: {prs_threshold:.9f}\")\n",
    "print(f\"T2D Cases in top 10%: {high_risk_cases}\")\n",
    "print(f\"Controls in top 10%: {high_risk_controls}\")"
   ]
  },
  {
   "cell_type": "code",
   "execution_count": 16,
   "id": "97200dcc",
   "metadata": {},
   "outputs": [
    {
     "data": {
      "image/png": "[encoded data removed]",
      "text/plain": [
       "<Figure size 1200x500 with 4 Axes>"
      ]
     },
     "metadata": {},
     "output_type": "display_data"
    }
   ],
   "source": [
    "# Predicted labels using threshold 0.5\n",
    "y_pred_label = (y_pred_prob > 0.5).astype(int)\n",
    "\n",
    "# Confusion Matrix - Raw\n",
    "cm_raw = confusion_matrix(y_test, y_pred_label)\n",
    "\n",
    "# Confusion Matrix - Normalized\n",
    "cm_normalized = confusion_matrix(y_test, y_pred_label, normalize='true')\n",
    "\n",
    "# Plot both\n",
    "fig, axes = plt.subplots(1, 2, figsize=(12, 5))\n",
    "\n",
    "# Raw Confusion Matrix\n",
    "sns.heatmap(cm_raw, annot=True, fmt='d', cmap='Blues', ax=axes[0])\n",
    "axes[0].set_title('Test Set Confusion Matrix for Hyperthyroidism (Raw)')\n",
    "axes[0].set_xlabel('Predicted')\n",
    "axes[0].set_ylabel('Actual')\n",
    "axes[0].set_xticklabels(['No Disease', 'Has Disease'])\n",
    "axes[0].set_yticklabels(['No Disease', 'Has Disease'])\n",
    "\n",
    "# Normalized Confusion Matrix\n",
    "sns.heatmap(cm_normalized, annot=True, fmt='.2f', cmap='Greens', ax=axes[1])\n",
    "axes[1].set_title('Test Set Confusion Matrix for Hyperthyroidism (Normalized)')\n",
    "axes[1].set_xlabel('Predicted')\n",
    "axes[1].set_ylabel('Actual')\n",
    "axes[1].set_xticklabels(['No Disease', 'Has Disease'])\n",
    "axes[1].set_yticklabels(['No Disease', 'Has Disease'])\n",
    "\n",
    "plt.tight_layout()\n",
    "plt.savefig(cf_matrix, dpi=300)\n",
    "plt.show()"
   ]
  }
 ],
 "metadata": {
  "kernelspec": {
   "display_name": "Python 3",
   "language": "python",
   "name": "python3"
  },
  "language_info": {
   "codemirror_mode": {
    "name": "ipython",
    "version": 3
   },
   "file_extension": ".py",
   "mimetype": "text/x-python",
   "name": "python",
   "nbconvert_exporter": "python",
   "pygments_lexer": "ipython3",
   "version": "3.13.2"
  }
 },
 "nbformat": 4,
 "nbformat_minor": 5
}
