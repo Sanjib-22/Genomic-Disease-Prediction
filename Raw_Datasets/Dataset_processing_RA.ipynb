{
 "cells": [
  {
   "cell_type": "markdown",
   "id": "5e4dadba",
   "metadata": {},
   "source": [
    "Dataset Pre-processing"
   ]
  },
  {
   "cell_type": "code",
   "execution_count": 1,
   "id": "e18e8c59",
   "metadata": {},
   "outputs": [],
   "source": [
    "import pandas as pd\n",
    "import numpy as np\n",
    "import random\n",
    "import os"
   ]
  },
  {
   "cell_type": "code",
   "execution_count": 2,
   "id": "3a9738a0",
   "metadata": {},
   "outputs": [],
   "source": [
    "# File paths\n",
    "\n",
    "# Target and Raw Folder path\n",
    "raw_file_dir = os.path.join('..', 'Raw_Datasets', 'RA_data')\n",
    "target_dir = os.path.join('..', 'Final Datasets', 'RA_final')\n",
    "\n",
    "# Working File path\n",
    "snp_file = os.path.join(raw_file_dir, 'RA_top10000_cleaned.csv')\n",
    "sample_id = os.path.join(raw_file_dir, 'sample_ids.txt')\n",
    "pheno_siml = os.path.join(raw_file_dir, 'phenotype_RA_simulated_50_50.tsv')\n",
    "geno_raw = os.path.join(raw_file_dir, 'RA_chr1_6_genotypes_raw.txt')\n",
    "geno_header = os.path.join(raw_file_dir, 'RA_chr1_6_genotypes_with_header.tsv')\n",
    "dosage = os.path.join(raw_file_dir, 'RA_chr1_6_dosage_matrix.csv')\n",
    "pheno_align = os.path.join(raw_file_dir, 'phenotype_RA_aligned.csv')\n",
    "\n",
    "# Final File path \n",
    "pheno_final_extended = os.path.join(target_dir, 'RA_aligned_phenotypes_final_extended.csv')\n",
    "pheno_final_path = os.path.join(target_dir, 'RA_aligned_phenotypes_final.csv') \n",
    "geno_final_path = os.path.join(target_dir, 'RA_aligned_genotypes_final.csv')"
   ]
  },
  {
   "cell_type": "code",
   "execution_count": 3,
   "id": "b14541db",
   "metadata": {},
   "outputs": [],
   "source": [
    "samples = pd.read_csv(sample_id, header=None, names=[\"sample_id\"])\n",
    "\n",
    "# Create 50% labels\n",
    "n = len(samples)\n",
    "labels = np.array([1]*int(n/2) + [0]*int(n/2))\n",
    "np.random.shuffle(labels)\n",
    "\n",
    "samples[\"label\"] = labels\n",
    "\n",
    "samples.to_csv(pheno_siml, sep=\"\\t\", index=False)"
   ]
  },
  {
   "cell_type": "code",
   "execution_count": 4,
   "id": "781c67bb",
   "metadata": {},
   "outputs": [],
   "source": [
    "# Creating the Genotypes file with header\n",
    "with open(sample_id) as f:\n",
    "    sample_ids = [line.strip() for line in f]\n",
    "\n",
    "df = pd.read_csv(geno_raw, sep=\"\\t\", header=None)\n",
    "\n",
    "column_names = [\"CHROM\", \"POS\"] + sample_ids\n",
    "df.columns = column_names\n",
    "\n",
    "df.to_csv(geno_header, sep=\"\\t\", index=False)"
   ]
  },
  {
   "cell_type": "code",
   "execution_count": 5,
   "id": "a04b611a",
   "metadata": {},
   "outputs": [
    {
     "name": "stderr",
     "output_type": "stream",
     "text": [
      "C:\\Users\\Sanjib Das\\AppData\\Local\\Temp\\ipykernel_21216\\2940040278.py:22: FutureWarning: DataFrame.applymap has been deprecated. Use DataFrame.map instead.\n",
      "  dosage_matrix = genotypes.applymap(gt_to_dosage)\n"
     ]
    }
   ],
   "source": [
    "# Creating the Dosage Matrix\n",
    "raw = pd.read_csv(geno_header, sep='\\t')\n",
    "\n",
    "with open(sample_id) as f:\n",
    "    sample_ids = [line.strip() for line in f]\n",
    "\n",
    "# Extract SNP info and genotypes\n",
    "snp_ids = raw.iloc[:, 0].astype(str) + \"_\" + raw.iloc[:, 1].astype(str)\n",
    "genotypes = raw.iloc[:, 2:]\n",
    "\n",
    "def gt_to_dosage(gt):\n",
    "    if gt == \"0|0\":\n",
    "        return 0\n",
    "    elif gt in [\"0|1\", \"1|0\"]:\n",
    "        return 1\n",
    "    elif gt == \"1|1\":\n",
    "        return 2\n",
    "    else:\n",
    "        return np.nan \n",
    "\n",
    "# Apply conversion to each cell\n",
    "dosage_matrix = genotypes.applymap(gt_to_dosage)\n",
    "\n",
    "# Transpose: rows = samples\n",
    "X = dosage_matrix.T\n",
    "X.columns = snp_ids\n",
    "X.index = sample_ids\n",
    "X_filled = X.fillna(X.mean())  # Impute missing values with column (SNP) mean\n",
    "\n",
    "X.to_csv(dosage)"
   ]
  },
  {
   "cell_type": "code",
   "execution_count": 6,
   "id": "a5436d1e",
   "metadata": {},
   "outputs": [
    {
     "name": "stdout",
     "output_type": "stream",
     "text": [
      "Matrix shape: (2504, 1612)\n",
      "Phenotype breakdown:\n",
      " label\n",
      "0    1252\n",
      "1    1252\n",
      "Name: count, dtype: int64\n"
     ]
    }
   ],
   "source": [
    "# Creating phenotype file from dosage matrix\n",
    "X = pd.read_csv(dosage, index_col=0)\n",
    "y = pd.read_csv(pheno_siml, sep=\"\\t\")\n",
    "\n",
    "y_matched = y[y[\"sample_id\"].isin(X.index)].copy()\n",
    "X_aligned = X.loc[y_matched[\"sample_id\"]]\n",
    "\n",
    "assert all(X_aligned.index == y_matched[\"sample_id\"]), \"Sample alignment mismatch!\"\n",
    "\n",
    "# Preview\n",
    "print(\"Matrix shape:\", X_aligned.shape)\n",
    "print(\"Phenotype breakdown:\\n\", y_matched[\"label\"].value_counts())\n",
    "y_matched.to_csv(pheno_align, index=False)"
   ]
  },
  {
   "cell_type": "code",
   "execution_count": 7,
   "id": "1f9eabd7",
   "metadata": {},
   "outputs": [
    {
     "name": "stdout",
     "output_type": "stream",
     "text": [
      "Original samples: Pheno=2504, Geno=2504\n",
      "Aligned samples: 2504\n",
      "\n",
      "Phenotype distribution:\n",
      "label\n",
      "0    1252\n",
      "1    1252\n",
      "Name: count, dtype: int64\n"
     ]
    }
   ],
   "source": [
    "# Creating Final files for genotype and phenotype\n",
    "pheno = pd.read_csv(pheno_align, sep=\",\") \n",
    "dosage_matrix = pd.read_csv(dosage, index_col=0)\n",
    "\n",
    "# Convert labels to integers (0=control, 1=case)\n",
    "pheno[\"label\"] = pheno[\"label\"].astype(int)\n",
    "\n",
    "# Aligning samples between phenotype and genotype data and getting the intersection of Sample IDs\n",
    "common_samples = list(set(pheno[\"sample_id\"]).intersection(dosage_matrix.index))\n",
    "\n",
    "# Filter both datasets\n",
    "pheno_aligned = pheno[pheno[\"sample_id\"].isin(common_samples)].set_index(\"sample_id\")\n",
    "dosage_aligned = dosage_matrix.loc[common_samples]\n",
    "\n",
    "# Check alignment\n",
    "print(f\"Original samples: Pheno={len(pheno)}, Geno={len(dosage_matrix)}\")\n",
    "print(f\"Aligned samples: {len(common_samples)}\")\n",
    "print(\"\\nPhenotype distribution:\")\n",
    "print(pheno_aligned[\"label\"].value_counts())\n",
    "\n",
    "# 4. Prepare X and y for model training\n",
    "X = dosage_aligned.astype(float)  \n",
    "y = pheno_aligned[\"label\"].values  \n",
    "\n",
    "# Optional: Save aligned datasets\n",
    "pheno_aligned.to_csv(pheno_final_path)\n",
    "X.to_csv(geno_final_path)"
   ]
  },
  {
   "cell_type": "code",
   "execution_count": 8,
   "id": "bad5a03e",
   "metadata": {},
   "outputs": [
    {
     "name": "stdout",
     "output_type": "stream",
     "text": [
      "Fixed DataFrame:\n",
      "         1_113869057  1_113910209  1_113914390  1_113919261  1_114119620  \\\n",
      "HG03237          0.0          0.0          0.0          0.0          0.0   \n",
      "\n",
      "         1_114173410  1_114303808  1_114335788  1_114365745  1_114377568  ...  \\\n",
      "HG03237          2.0          0.0          0.0          0.0          2.0  ...   \n",
      "\n",
      "         6_33349885  6_33389381  6_33403422  6_33408542  6_137897086  \\\n",
      "HG03237         1.0         1.0         1.0         1.0          0.0   \n",
      "\n",
      "         6_137959235  6_137973068  6_138002175  6_138005515  6_138006504  \n",
      "HG03237          0.0          0.0          0.0          0.0          0.0  \n",
      "\n",
      "[1 rows x 1612 columns]\n",
      "\n",
      "File saved without duplicate index column!\n"
     ]
    }
   ],
   "source": [
    "# Removing unnamed column in genotype file\n",
    "df = pd.read_csv(geno_final_path)\n",
    "\n",
    "# Fix the index column\n",
    "if 'Unnamed: 0' in df.columns:\n",
    "    df = df.set_index('Unnamed: 0')\n",
    "    df.index.name = None  \n",
    "\n",
    "# Verify\n",
    "print(\"Fixed DataFrame:\")\n",
    "print(df.head(1))\n",
    "\n",
    "# Saving corrected file (overwrite original)\n",
    "df.to_csv(geno_final_path, index=True)  \n",
    "\n",
    "print(\"\\nFile saved without duplicate index column!\")"
   ]
  },
  {
   "cell_type": "code",
   "execution_count": 9,
   "id": "7aff65aa",
   "metadata": {},
   "outputs": [
    {
     "name": "stdout",
     "output_type": "stream",
     "text": [
      "Fixed DataFrame:\n",
      "  sample_id  label\n",
      "0   HG00096      0\n",
      "1   HG00097      0\n",
      "2   HG00099      0\n",
      "3   HG00100      1\n",
      "4   HG00101      0\n",
      "\n",
      "File saved without duplicate index column!\n"
     ]
    }
   ],
   "source": [
    "# Removing unnamed column in phenotype file\n",
    "df = pd.read_csv(pheno_final_path)\n",
    "\n",
    "# 2. Fix the index column\n",
    "if 'Unnamed: 0' in df.columns:\n",
    "    df = df.set_index('Unnamed: 0')\n",
    "    df.index.name = None  \n",
    "\n",
    "# Verify\n",
    "print(\"Fixed DataFrame:\")\n",
    "print(df.head())\n",
    "\n",
    "# Saving corrected file (overwrite original)\n",
    "df.to_csv(pheno_final_path, index=False)  \n",
    "\n",
    "print(\"\\nFile saved without duplicate index column!\")"
   ]
  },
  {
   "cell_type": "code",
   "execution_count": 10,
   "id": "f5ce24c9",
   "metadata": {},
   "outputs": [
    {
     "name": "stdout",
     "output_type": "stream",
     "text": [
      "Extended phenotype file saved\n"
     ]
    }
   ],
   "source": [
    "# Creating the phenotype file with Age and Sex\n",
    "\n",
    "phenos = pd.read_csv(pheno_final_path)\n",
    "phenos[\"age\"] = [random.randint(40,70) for _ in range(len(phenos))]\n",
    "phenos[\"sex\"] = [random.choice([\"M\",\"F\"]) for _ in range(len(phenos))]\n",
    "phenos.to_csv(pheno_final_extended, index=False)\n",
    "print(\"Extended phenotype file saved\")"
   ]
  },
  {
   "cell_type": "code",
   "execution_count": 11,
   "id": "eb46242d",
   "metadata": {},
   "outputs": [
    {
     "name": "stdout",
     "output_type": "stream",
     "text": [
      "=== Phenotype Data Validation ===\n",
      "Total samples: 2504\n",
      "\n",
      "First 5 rows:\n",
      "  sample_id  label\n",
      "0   HG00096      0\n",
      "1   HG00097      0\n",
      "2   HG00099      0\n",
      "3   HG00100      1\n",
      "4   HG00101      0\n",
      "\n",
      "Label distribution:\n",
      "label\n",
      "0    1252\n",
      "1    1252\n",
      "Name: count, dtype: int64\n",
      "\n",
      "=== Quality Checks ===\n",
      "Missing labels: 0\n",
      "Duplicate sample IDs: 0\n",
      "Non-binary labels: set()\n",
      "\n",
      "Samples in both files: 2504/2504\n",
      "\n",
      "All sample IDs match perfectly!\n"
     ]
    }
   ],
   "source": [
    "# Final Verification of all files\n",
    "\n",
    "genotypes = pd.read_csv(geno_final_path, index_col=0)\n",
    "phenotypes = pd.read_csv(pheno_final_path)\n",
    "\n",
    "# Basic phenotype checks\n",
    "print(\"=== Phenotype Data Validation ===\")\n",
    "print(f\"Total samples: {len(phenotypes)}\")\n",
    "print(\"\\nFirst 5 rows:\")\n",
    "print(phenotypes.head())\n",
    "\n",
    "print(\"\\nLabel distribution:\")\n",
    "print(phenotypes['label'].value_counts())\n",
    "\n",
    "# Checking for common issues\n",
    "print(\"\\n=== Quality Checks ===\")\n",
    "print(f\"Missing labels: {phenotypes['label'].isna().sum()}\")\n",
    "print(f\"Duplicate sample IDs: {phenotypes['sample_id'].duplicated().sum()}\")\n",
    "print(f\"Non-binary labels: {set(phenotypes['label']) - {0, 1}}\") \n",
    "\n",
    "# Verify alignment with genotypes\n",
    "common_samples = set(phenotypes['sample_id']).intersection(genotypes.index)\n",
    "print(f\"\\nSamples in both files: {len(common_samples)}/{len(phenotypes)}\")\n",
    "\n",
    "mismatched = set(phenotypes['sample_id']).symmetric_difference(genotypes.index)\n",
    "if mismatched:\n",
    "    print(\"\\nWarning: Mismatched sample IDs (first 5):\")\n",
    "    print(list(mismatched)[:5])\n",
    "else:\n",
    "    print(\"\\nAll sample IDs match perfectly!\")\n",
    "\n",
    "if len(mismatched) > 0:\n",
    "    print(\"\\nCleaning sample IDs...\")\n",
    "    phenotypes['sample_id'] = phenotypes['sample_id'].str.strip().str.upper()\n",
    "    genotypes.index = genotypes.index.str.strip().str.upper()\n",
    "    \n",
    "    common_samples = set(phenotypes['sample_id']).intersection(genotypes.index)\n",
    "    phenotypes = phenotypes[phenotypes['sample_id'].isin(common_samples)]\n",
    "    genotypes = genotypes.loc[common_samples]\n",
    "    \n",
    "    print(f\"Final aligned samples: {len(common_samples)}\")\n",
    "    \n",
    "    phenotypes.to_csv(pheno_final_path, index=False)\n",
    "    genotypes.to_csv(geno_final_path, index=True)\n",
    "    print(\"Saved cleaned files!\")"
   ]
  }
 ],
 "metadata": {
  "kernelspec": {
   "display_name": "Python 3",
   "language": "python",
   "name": "python3"
  },
  "language_info": {
   "codemirror_mode": {
    "name": "ipython",
    "version": 3
   },
   "file_extension": ".py",
   "mimetype": "text/x-python",
   "name": "python",
   "nbconvert_exporter": "python",
   "pygments_lexer": "ipython3",
   "version": "3.13.2"
  }
 },
 "nbformat": 4,
 "nbformat_minor": 5
}
